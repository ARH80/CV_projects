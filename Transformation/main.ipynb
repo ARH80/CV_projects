{
 "cells": [
  {
   "cell_type": "markdown",
   "metadata": {},
   "source": [
    "### Part A"
   ]
  },
  {
   "cell_type": "code",
   "execution_count": 1,
   "metadata": {
    "metadata": {}
   },
   "outputs": [
    {
     "name": "stdout",
     "output_type": "stream",
     "text": [
      "Transformed Point: [ -39.98574274 -104.89963005   34.09077025    1.        ]\n"
     ]
    }
   ],
   "source": [
    "import numpy as np\n",
    "\n",
    "def to_homogeneous(point):\n",
    "    \"\"\" Convert a point from Euclidean (3D) to homogeneous coordinates (4D). \"\"\"\n",
    "    return np.array([point[0], point[1], point[2], 1])\n",
    "\n",
    "def normalize(vector):\n",
    "    \"\"\" Normalize a 3D vector. \"\"\"\n",
    "    return vector / np.linalg.norm(vector)\n",
    "\n",
    "def rodrigues_rotation_matrix(axis, theta):\n",
    "    \"\"\" Calculate the rotation matrix using Rodrigues' rotation formula. \n",
    "        Axis is the rotation axis, theta is the rotation angle in degrees. \"\"\"\n",
    "    theta = np.radians(theta)\n",
    "    axis = normalize(axis)\n",
    "    K = np.array([\n",
    "        [0, -axis[2], axis[1]],\n",
    "        [axis[2], 0, -axis[0]],\n",
    "        [-axis[1], axis[0], 0]\n",
    "    ])\n",
    "    I = np.eye(3)\n",
    "    R = I + np.sin(theta) * K + (1 - np.cos(theta)) * (np.dot(K, K))\n",
    "    return R\n",
    "\n",
    "def similarity_transformation_matrix(scale, axis, angle, translation):\n",
    "    \"\"\" Create a similarity transformation matrix that includes scaling, rotation, and translation. \"\"\"\n",
    "    S = np.diag([scale, scale, scale, 1])\n",
    "    R = rodrigues_rotation_matrix(axis, angle)\n",
    "    R_homogeneous = np.eye(4)\n",
    "    R_homogeneous[:3, :3] = R\n",
    "\n",
    "    T = np.eye(4)\n",
    "    T[:3, 3] = translation\n",
    "\n",
    "    M = T @ R_homogeneous @ S\n",
    "    return M\n",
    "\n",
    "def transform_point(point, M):\n",
    "    \"\"\" Apply the transformation matrix M to a point in homogeneous coordinates. \"\"\"\n",
    "    return M @ point\n",
    "\n",
    "# Example usage\n",
    "point = (2, -7, 9)\n",
    "scale = 10\n",
    "axis = (3, 5, -6)\n",
    "angle = 90  # degrees\n",
    "translation = (-8, 1, 0)\n",
    "\n",
    "homogeneous_point = to_homogeneous(point)\n",
    "transformation_matrix = similarity_transformation_matrix(scale, axis, angle, translation)\n",
    "transformed_point = transform_point(homogeneous_point, transformation_matrix)\n",
    "\n",
    "print(\"Transformed Point:\", transformed_point)"
   ]
  },
  {
   "cell_type": "markdown",
   "metadata": {},
   "source": [
    "### Part B"
   ]
  },
  {
   "cell_type": "code",
   "execution_count": 2,
   "metadata": {
    "metadata": {}
   },
   "outputs": [
    {
     "name": "stdout",
     "output_type": "stream",
     "text": [
      "Original Point: [ 1.19667614  3.79495299 -4.26219404]\n"
     ]
    }
   ],
   "source": [
    "import numpy as np\n",
    "\n",
    "def to_homogeneous(point):\n",
    "    return np.array([point[0], point[1], point[2], 1])\n",
    "\n",
    "def normalize(vector):\n",
    "    return vector / np.linalg.norm(vector)\n",
    "\n",
    "def rodrigues_rotation_matrix(axis, theta):\n",
    "    theta = np.radians(theta)  # Convert angle from degrees to radians\n",
    "    axis = normalize(axis)\n",
    "    K = np.array([\n",
    "        [0, -axis[2], axis[1]],\n",
    "        [axis[2], 0, -axis[0]],\n",
    "        [-axis[1], axis[0], 0]\n",
    "    ])\n",
    "    I = np.eye(3)\n",
    "    R = I + np.sin(theta) * K + (1 - np.cos(theta)) * (np.dot(K, K))\n",
    "    return R\n",
    "\n",
    "def similarity_transformation_matrix(scale, axis, angle, translation):\n",
    "    S = np.diag([scale, scale, scale, 1])\n",
    "    R = rodrigues_rotation_matrix(axis, angle)\n",
    "    R_homogeneous = np.eye(4)\n",
    "    R_homogeneous[:3, :3] = R\n",
    "    T = np.eye(4)\n",
    "    T[:3, 3] = translation\n",
    "    M = T @ R_homogeneous @ S\n",
    "    return M\n",
    "\n",
    "def transform_point(point, M):\n",
    "    return M @ point\n",
    "\n",
    "# Parameters\n",
    "scale = 2\n",
    "axis = (1, 2, 3)\n",
    "angle = 45  # degrees\n",
    "translation = (3, -2, 5)\n",
    "transformed_point = (-3, 6, -1)  # Given x'\n",
    "\n",
    "homogeneous_transformed_point = to_homogeneous(transformed_point)\n",
    "M = similarity_transformation_matrix(scale, axis, angle, translation)\n",
    "M_inverse = np.linalg.inv(M)\n",
    "original_point = transform_point(homogeneous_transformed_point, M_inverse)\n",
    "\n",
    "print(\"Original Point:\", original_point[:3])"
   ]
  }
 ],
 "metadata": {
  "kernelspec": {
   "display_name": "Python 3",
   "language": "python",
   "name": "python3"
  },
  "language_info": {
   "codemirror_mode": {
    "name": "ipython",
    "version": 3
   },
   "file_extension": ".py",
   "mimetype": "text/x-python",
   "name": "python",
   "nbconvert_exporter": "python",
   "pygments_lexer": "ipython3",
   "version": "3.10.12"
  }
 },
 "nbformat": 4,
 "nbformat_minor": 2
}
